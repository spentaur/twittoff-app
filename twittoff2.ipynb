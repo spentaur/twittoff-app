{
 "cells": [
  {
   "cell_type": "code",
   "execution_count": 1,
   "metadata": {},
   "outputs": [],
   "source": [
    "from app.models.user import User\n",
    "from app.models.tweet import Tweet\n",
    "from app.app import create_app\n",
    "import numpy as np\n",
    "from sklearn.model_selection import train_test_split\n",
    "from sklearn.linear_model import SGDClassifier\n",
    "from skl2onnx import convert_sklearn\n",
    "from skl2onnx.common.data_types import FloatTensorType, Int64TensorType\n",
    "import onnxruntime as rt\n",
    "from app.api.basilica import BASILICA\n",
    "import collections\n",
    "import pprint as pp\n",
    "from sklearn.model_selection import RandomizedSearchCV"
   ]
  },
  {
   "cell_type": "code",
   "execution_count": 2,
   "metadata": {},
   "outputs": [],
   "source": [
    "app = create_app()\n",
    "app.app_context().push()"
   ]
  },
  {
   "cell_type": "code",
   "execution_count": 3,
   "metadata": {},
   "outputs": [],
   "source": [
    "tweets = Tweet.query.all()"
   ]
  },
  {
   "cell_type": "code",
   "execution_count": 4,
   "metadata": {},
   "outputs": [],
   "source": [
    "data = np.array([np.hstack([tweet.embedding, tweet.user_id]) for tweet in tweets])"
   ]
  },
  {
   "cell_type": "code",
   "execution_count": 5,
   "metadata": {},
   "outputs": [
    {
     "data": {
      "text/plain": [
       "(5916, 769)"
      ]
     },
     "execution_count": 5,
     "metadata": {},
     "output_type": "execute_result"
    }
   ],
   "source": [
    "data.shape"
   ]
  },
  {
   "cell_type": "code",
   "execution_count": 6,
   "metadata": {},
   "outputs": [],
   "source": [
    "np.random.shuffle(data)"
   ]
  },
  {
   "cell_type": "code",
   "execution_count": 7,
   "metadata": {},
   "outputs": [],
   "source": [
    "X = data[:, :-1]\n",
    "y = data[:, -1]"
   ]
  },
  {
   "cell_type": "code",
   "execution_count": 8,
   "metadata": {},
   "outputs": [
    {
     "data": {
      "text/plain": [
       "((5916, 768), (5916,))"
      ]
     },
     "execution_count": 8,
     "metadata": {},
     "output_type": "execute_result"
    }
   ],
   "source": [
    "X.shape, y.shape"
   ]
  },
  {
   "cell_type": "code",
   "execution_count": 9,
   "metadata": {},
   "outputs": [],
   "source": [
    "X_train, X_test, y_train, y_test = train_test_split(X, y, test_size=0.25, random_state=42)"
   ]
  },
  {
   "cell_type": "code",
   "execution_count": 10,
   "metadata": {},
   "outputs": [],
   "source": [
    "clf = SGDClassifier(loss='hinge', penalty='l2',\n",
    "                    alpha=1e-3, random_state=42,\n",
    "                    max_iter=5, tol=None)"
   ]
  },
  {
   "cell_type": "code",
   "execution_count": 11,
   "metadata": {},
   "outputs": [
    {
     "data": {
      "text/plain": [
       "SGDClassifier(alpha=0.001, average=False, class_weight=None,\n",
       "              early_stopping=False, epsilon=0.1, eta0=0.0, fit_intercept=True,\n",
       "              l1_ratio=0.15, learning_rate='optimal', loss='hinge', max_iter=5,\n",
       "              n_iter_no_change=5, n_jobs=None, penalty='l2', power_t=0.5,\n",
       "              random_state=42, shuffle=True, tol=None, validation_fraction=0.1,\n",
       "              verbose=0, warm_start=False)"
      ]
     },
     "execution_count": 11,
     "metadata": {},
     "output_type": "execute_result"
    }
   ],
   "source": [
    "clf.fit(X_train, y_train)"
   ]
  },
  {
   "cell_type": "code",
   "execution_count": 12,
   "metadata": {},
   "outputs": [
    {
     "data": {
      "text/plain": [
       "0.9546991210277215"
      ]
     },
     "execution_count": 12,
     "metadata": {},
     "output_type": "execute_result"
    }
   ],
   "source": [
    "predicted = clf.predict(X_test)\n",
    "np.mean(predicted == y_test)"
   ]
  },
  {
   "cell_type": "code",
   "execution_count": 13,
   "metadata": {},
   "outputs": [],
   "source": [
    "tweet = \"\"\"No one says it better than @MichelleObama\n",
    " — the Obama Presidential Center coming to the South Side isn't for us, it's for the community and the next generation of leaders.\"\"\""
   ]
  },
  {
   "cell_type": "code",
   "execution_count": 14,
   "metadata": {},
   "outputs": [],
   "source": [
    "with BASILICA as c:\n",
    "    embedding = np.array(c.embed_sentence(tweet,model=\"twitter\")).reshape(1,-1)"
   ]
  },
  {
   "cell_type": "code",
   "execution_count": 15,
   "metadata": {},
   "outputs": [
    {
     "data": {
      "text/plain": [
       "array([813286.])"
      ]
     },
     "execution_count": 15,
     "metadata": {},
     "output_type": "execute_result"
    }
   ],
   "source": [
    "clf.predict(embedding)"
   ]
  },
  {
   "cell_type": "code",
   "execution_count": 16,
   "metadata": {},
   "outputs": [],
   "source": [
    "parameters = {'alpha': [1e-4, 1e-3, 1e-2, 1e-1, 1e0, 1e1, 1e2, 1e3], # learning rate\n",
    "    'max_iter': [5, 10, 100, 500, 1000, 2000, 10000],\n",
    "    'loss': ['hinge', 'log', 'modified_huber', 'squared_hinge', 'perceptron'], # logistic regression,\n",
    "    'penalty': ['l2'],\n",
    "    'n_jobs': [-1]}"
   ]
  },
  {
   "cell_type": "code",
   "execution_count": 17,
   "metadata": {},
   "outputs": [],
   "source": [
    "rs_clf = RandomizedSearchCV(clf, parameters, verbose=20, cv=5, n_jobs=-1)"
   ]
  },
  {
   "cell_type": "code",
   "execution_count": 18,
   "metadata": {},
   "outputs": [
    {
     "name": "stdout",
     "output_type": "stream",
     "text": [
      "Fitting 5 folds for each of 10 candidates, totalling 50 fits\n"
     ]
    },
    {
     "name": "stderr",
     "output_type": "stream",
     "text": [
      "[Parallel(n_jobs=-1)]: Using backend LokyBackend with 4 concurrent workers.\n",
      "[Parallel(n_jobs=-1)]: Done   1 tasks      | elapsed:   37.9s\n",
      "[Parallel(n_jobs=-1)]: Done   2 tasks      | elapsed:   45.7s\n",
      "[Parallel(n_jobs=-1)]: Done   3 tasks      | elapsed:   46.0s\n",
      "[Parallel(n_jobs=-1)]: Done   4 tasks      | elapsed:   46.2s\n",
      "[Parallel(n_jobs=-1)]: Done   5 tasks      | elapsed:   46.6s\n",
      "[Parallel(n_jobs=-1)]: Done   6 tasks      | elapsed:   46.9s\n",
      "[Parallel(n_jobs=-1)]: Done   7 tasks      | elapsed:   47.3s\n",
      "[Parallel(n_jobs=-1)]: Done   8 tasks      | elapsed:   47.6s\n",
      "[Parallel(n_jobs=-1)]: Done   9 tasks      | elapsed:   47.9s\n",
      "[Parallel(n_jobs=-1)]: Done  10 tasks      | elapsed:   48.2s\n",
      "[Parallel(n_jobs=-1)]: Done  11 tasks      | elapsed:   48.6s\n",
      "[Parallel(n_jobs=-1)]: Done  12 tasks      | elapsed:   48.9s\n",
      "[Parallel(n_jobs=-1)]: Done  13 tasks      | elapsed:   49.5s\n",
      "[Parallel(n_jobs=-1)]: Done  14 tasks      | elapsed:   51.1s\n",
      "[Parallel(n_jobs=-1)]: Done  15 tasks      | elapsed:   51.4s\n",
      "[Parallel(n_jobs=-1)]: Done  16 tasks      | elapsed:   51.6s\n",
      "[Parallel(n_jobs=-1)]: Done  17 tasks      | elapsed:   51.9s\n",
      "[Parallel(n_jobs=-1)]: Done  18 tasks      | elapsed:   51.9s\n",
      "[Parallel(n_jobs=-1)]: Done  19 tasks      | elapsed:   52.1s\n",
      "[Parallel(n_jobs=-1)]: Done  20 tasks      | elapsed:   55.2s\n",
      "[Parallel(n_jobs=-1)]: Done  21 tasks      | elapsed:   55.2s\n",
      "[Parallel(n_jobs=-1)]: Done  22 tasks      | elapsed:   55.4s\n",
      "[Parallel(n_jobs=-1)]: Done  23 tasks      | elapsed:   55.4s\n",
      "[Parallel(n_jobs=-1)]: Done  24 tasks      | elapsed:   55.6s\n",
      "[Parallel(n_jobs=-1)]: Done  25 tasks      | elapsed:   55.7s\n",
      "[Parallel(n_jobs=-1)]: Done  26 tasks      | elapsed:   56.9s\n",
      "[Parallel(n_jobs=-1)]: Done  27 tasks      | elapsed:   56.9s\n",
      "[Parallel(n_jobs=-1)]: Done  28 tasks      | elapsed:   57.2s\n",
      "[Parallel(n_jobs=-1)]: Done  29 tasks      | elapsed:   57.7s\n",
      "[Parallel(n_jobs=-1)]: Done  30 tasks      | elapsed:  1.7min\n",
      "[Parallel(n_jobs=-1)]: Done  31 tasks      | elapsed:  1.7min\n",
      "[Parallel(n_jobs=-1)]: Done  32 tasks      | elapsed:  1.7min\n",
      "[Parallel(n_jobs=-1)]: Done  33 tasks      | elapsed:  1.8min\n",
      "[Parallel(n_jobs=-1)]: Done  34 tasks      | elapsed:  2.3min\n",
      "[Parallel(n_jobs=-1)]: Done  35 tasks      | elapsed:  2.3min\n",
      "[Parallel(n_jobs=-1)]: Done  36 tasks      | elapsed:  3.0min\n",
      "[Parallel(n_jobs=-1)]: Done  37 tasks      | elapsed:  3.1min\n",
      "[Parallel(n_jobs=-1)]: Done  38 tasks      | elapsed:  3.2min\n",
      "[Parallel(n_jobs=-1)]: Done  39 tasks      | elapsed:  3.2min\n",
      "[Parallel(n_jobs=-1)]: Done  40 tasks      | elapsed:  3.2min\n",
      "[Parallel(n_jobs=-1)]: Done  41 tasks      | elapsed:  3.2min\n",
      "[Parallel(n_jobs=-1)]: Done  42 tasks      | elapsed:  3.2min\n",
      "[Parallel(n_jobs=-1)]: Done  43 tasks      | elapsed:  3.5min\n",
      "[Parallel(n_jobs=-1)]: Done  46 out of  50 | elapsed:  8.1min remaining:   42.2s\n",
      "[Parallel(n_jobs=-1)]: Done  50 out of  50 | elapsed: 10.2min finished\n"
     ]
    }
   ],
   "source": [
    "rs_clf = rs_clf.fit(X_train, y_train)"
   ]
  },
  {
   "cell_type": "code",
   "execution_count": 19,
   "metadata": {},
   "outputs": [
    {
     "data": {
      "text/plain": [
       "{'penalty': 'l2',\n",
       " 'n_jobs': -1,\n",
       " 'max_iter': 2000,\n",
       " 'loss': 'modified_huber',\n",
       " 'alpha': 0.01}"
      ]
     },
     "execution_count": 19,
     "metadata": {},
     "output_type": "execute_result"
    }
   ],
   "source": [
    "rs_clf.best_params_"
   ]
  },
  {
   "cell_type": "code",
   "execution_count": 20,
   "metadata": {},
   "outputs": [
    {
     "data": {
      "text/plain": [
       "array([813286.])"
      ]
     },
     "execution_count": 20,
     "metadata": {},
     "output_type": "execute_result"
    }
   ],
   "source": [
    "rs_clf.predict(embedding)"
   ]
  },
  {
   "cell_type": "code",
   "execution_count": 21,
   "metadata": {},
   "outputs": [
    {
     "data": {
      "text/plain": [
       "0.966869506423259"
      ]
     },
     "execution_count": 21,
     "metadata": {},
     "output_type": "execute_result"
    }
   ],
   "source": [
    "predicted = rs_clf.predict(X_test)\n",
    "np.mean(predicted == y_test)"
   ]
  },
  {
   "cell_type": "code",
   "execution_count": 22,
   "metadata": {},
   "outputs": [],
   "source": [
    "sess = rt.InferenceSession(\"app/ml_models/tweet.onnx\")\n",
    "input_name = sess.get_inputs()[0].name\n",
    "prob_name = sess.get_outputs()[1].name\n",
    "prob_rt = sess.run([prob_name],\n",
    "                   {input_name: embedding.astype(np.float32)})[0][0]"
   ]
  },
  {
   "cell_type": "code",
   "execution_count": 23,
   "metadata": {},
   "outputs": [
    {
     "name": "stdout",
     "output_type": "stream",
     "text": [
      "OrderedDict([(0.07384211848885748,\n",
      "              {'name': 'Donald J. Trump',\n",
      "               'prob': 0.07384211848885748,\n",
      "               'username': 'realDonaldTrump'}),\n",
      "             (0.01103391277822752,\n",
      "              {'name': 'Barack Obama',\n",
      "               'prob': 0.01103391277822752,\n",
      "               'username': 'BarackObama'}),\n",
      "             (0.0002279743874632505,\n",
      "              {'name': 'Justin Bieber',\n",
      "               'prob': 0.0002279743874632505,\n",
      "               'username': 'justinbieber'})])\n"
     ]
    }
   ],
   "source": [
    "users = User.query.all()\n",
    "users_dict = {}\n",
    "for user in users:\n",
    "    users_dict[1 / (1 + np.exp(-prob_rt[user.id]))] = {\n",
    "        'name':     user.name,\n",
    "        'username': user.username,\n",
    "        'prob':     1 / (1 + np.exp(-prob_rt[user.id]))\n",
    "    }\n",
    "\n",
    "users_dict = collections.OrderedDict(sorted(users_dict.items(),\n",
    "                                            reverse=True))\n",
    "\n",
    "pp.pprint(users_dict)"
   ]
  },
  {
   "cell_type": "code",
   "execution_count": 24,
   "metadata": {},
   "outputs": [
    {
     "data": {
      "text/plain": [
       "array([[0.52060133, 0.47939867, 0.        ]])"
      ]
     },
     "execution_count": 24,
     "metadata": {},
     "output_type": "execute_result"
    }
   ],
   "source": [
    "rs_clf.predict_proba(embedding)"
   ]
  }
 ],
 "metadata": {
  "kernelspec": {
   "display_name": "twittoff-app",
   "language": "python",
   "name": "twittoff-app"
  },
  "language_info": {
   "codemirror_mode": {
    "name": "ipython",
    "version": 3
   },
   "file_extension": ".py",
   "mimetype": "text/x-python",
   "name": "python",
   "nbconvert_exporter": "python",
   "pygments_lexer": "ipython3",
   "version": "3.7.5"
  }
 },
 "nbformat": 4,
 "nbformat_minor": 2
}
